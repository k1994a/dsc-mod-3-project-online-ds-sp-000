{
 "cells": [
  {
   "cell_type": "code",
   "execution_count": null,
   "metadata": {},
   "outputs": [],
   "source": [
    "df_avg = df_reg.groupby(['Region']).mean()\n",
    "df_avg.Total_Price.plot.bar(figsize = (10,7), title = 'The Average Order Price by Region')\n",
    "plt.xlabel('Region')\n",
    "plt.ylabel('Average Price per Order ')\n",
    "plt.show()\n",
    "df_avg.Total_Quantity.plot.bar(figsize = (10,7), title = 'The Average Order Quantity by Region', color = 'r')\n",
    "plt.xlabel('Region')\n",
    "plt.ylabel('Average Quantity per Order ')\n",
    "plt.show()"
   ]
  }
 ],
 "metadata": {
  "kernelspec": {
   "display_name": "Python 3",
   "language": "python",
   "name": "python3"
  },
  "language_info": {
   "codemirror_mode": {
    "name": "ipython",
    "version": 3
   },
   "file_extension": ".py",
   "mimetype": "text/x-python",
   "name": "python",
   "nbconvert_exporter": "python",
   "pygments_lexer": "ipython3",
   "version": "3.8.3"
  }
 },
 "nbformat": 4,
 "nbformat_minor": 4
}
