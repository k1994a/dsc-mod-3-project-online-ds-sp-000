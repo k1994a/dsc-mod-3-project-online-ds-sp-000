{
 "cells": [
  {
   "cell_type": "markdown",
   "metadata": {},
   "source": [
    "## Final Project Submission\n",
    "\n",
    "* Student name: Kiarash Ahmadi\n",
    "* Student pace: self paced \n",
    "* Scheduled project review date/time: \n",
    "* Instructor name: Jeff Herman \n",
    "* Blog post URL: "
   ]
  },
  {
   "cell_type": "markdown",
   "metadata": {},
   "source": [
    "# Introduction:\n",
    "\n",
    "For this project, we are going to analyze the Northwind Database which is a fictional company created by Microsoft. From this database, we hope to gain insight in order to give advice to the stakeholders at the fictional company. This insight will be gained via statistical analysis in the form of hypothesis testing to answer the following questions:\n",
    "\n",
    "**1. Does discount amount have a statistically significant effect on the quantity of a product in an order? If so, at what level(s) of discount?**\n",
    "\n",
    "**2. Does customer region have a statistically significant effect on the quantity and/or price of a product in an order?**\n",
    "\n",
    "**3. Does the shipping company have a significant difference on the total price of an order?**\n",
    "\n",
    "**4. Do specific categories have a higher average price? If so, is this difference statistically significant to conclude that categories have a statistically significant effect on the average price of an order?**"
   ]
  },
  {
   "cell_type": "markdown",
   "metadata": {},
   "source": [
    "# Imports"
   ]
  },
  {
   "cell_type": "markdown",
   "metadata": {},
   "source": [
    "First, import the necessary packages for this project."
   ]
  },
  {
   "cell_type": "code",
   "execution_count": 2,
   "metadata": {},
   "outputs": [],
   "source": [
    "import numpy as np\n",
    "import pandas as pd\n",
    "import sqlite3\n",
    "from pandasql import sqldf\n",
    "import scipy \n",
    "import matplotlib.pyplot as plt\n",
    "import seaborn as sns\n",
    "import numpy as np\n",
    "import scipy.stats as stats\n",
    "import statsmodels.api as sm\n",
    "from statsmodels.formula.api import ols\n"
   ]
  },
  {
   "cell_type": "code",
   "execution_count": 3,
   "metadata": {},
   "outputs": [],
   "source": [
    "conn = sqlite3.connect(\"Northwind_small.sqlite\")\n",
    "cur = conn.cursor()\n",
    "pysqldf = lambda q: sqldf(q, globals())"
   ]
  },
  {
   "cell_type": "markdown",
   "metadata": {},
   "source": [
    "# Preliminary Exploratory Data Analysis"
   ]
  },
  {
   "cell_type": "markdown",
   "metadata": {},
   "source": [
    "Let's have a better idea of the dataset that we are going to be hypothesis testing on by analyzing the different relationships the tables in this dataset have. This preliminary analysis combined with the schema helps to formulate the type of questions we'd like answered and to define the path one needs to take in order to successfully answer the questions. "
   ]
  },
  {
   "cell_type": "code",
   "execution_count": 4,
   "metadata": {},
   "outputs": [
    {
     "name": "stdout",
     "output_type": "stream",
     "text": [
      "Number of Customers: 91\n",
      "Number of Companies: 29\n",
      "Number of Products: 77\n",
      "Number of Categories: 8\n",
      "Number of Employee: 9\n",
      "Number of Shippers: 3\n",
      "Number of Regions: 4\n",
      "Number of Territory: 53\n",
      "Number of Orders: 830\n"
     ]
    }
   ],
   "source": [
    "print('Number of Customers: {}'.format(cur.execute(\"\"\"SELECT COUNT(*) FROM Customer;\"\"\").fetchall()[0][0]))\n",
    "print('Number of Companies: {}'.format(cur.execute(\"\"\"SELECT COUNT(*) FROM Supplier;\"\"\").fetchall()[0][0]))\n",
    "print('Number of Products: {}'.format(cur.execute(\"\"\"SELECT COUNT(*) FROM Product;\"\"\").fetchall()[0][0]))\n",
    "print('Number of Categories: {}'.format(cur.execute(\"\"\"SELECT COUNT(*) FROM Category;\"\"\").fetchall()[0][0]))\n",
    "print('Number of Employee: {}'.format(cur.execute(\"\"\"SELECT COUNT(*) FROM Employee;\"\"\").fetchall()[0][0]))\n",
    "print('Number of Shippers: {}'.format(cur.execute(\"\"\"SELECT COUNT(*) FROM Shipper;\"\"\").fetchall()[0][0]))\n",
    "print('Number of Regions: {}'.format(cur.execute(\"\"\"SELECT COUNT(*) FROM Region;\"\"\").fetchall()[0][0]))\n",
    "print('Number of Territory: {}'.format(cur.execute(\"\"\"SELECT COUNT(*) FROM Territory;\"\"\").fetchall()[0][0]))\n",
    "print('Number of Orders: {}'.format(cur.execute(\"\"\"SELECT COUNT(*) FROM [Order];\"\"\").fetchall()[0][0]))"
   ]
  },
  {
   "cell_type": "markdown",
   "metadata": {},
   "source": [
    "<img src='https://raw.githubusercontent.com/learn-co-curriculum/dsc-mod-3-project/master/Northwind_ERD_updated.png'>"
   ]
  },
  {
   "cell_type": "markdown",
   "metadata": {},
   "source": [
    "# Hypothesis Testing\n",
    "\n",
    "### Question 1: Does discount amount have a statistically significant effect on the quantity of a product in an order? If so, at what level(s) of discount?\n",
    "\n",
    "In order to answer this question, let's define the null ($H_{o}$) and alternative ($H_{a}$) hypothesis:\n",
    "\n",
    "- $H_{o}$: Discount has no statistically significant effect on the quantity of a product in an order\n",
    "- $H_{a}$: Discount has a statistically significant effect on the quantity of a product in an order\n",
    "\n",
    "Next we'll define the threshold for this hypothesis test as $\\alpha = 0.05$. From there, we can now begin the process of testing this hypothesis. To do this first let's see what specific discounts have the most total quantity ordered"
   ]
  },
  {
   "cell_type": "code",
   "execution_count": 5,
   "metadata": {},
   "outputs": [
    {
     "data": {
      "text/html": [
       "<div>\n",
       "<style scoped>\n",
       "    .dataframe tbody tr th:only-of-type {\n",
       "        vertical-align: middle;\n",
       "    }\n",
       "\n",
       "    .dataframe tbody tr th {\n",
       "        vertical-align: top;\n",
       "    }\n",
       "\n",
       "    .dataframe thead th {\n",
       "        text-align: right;\n",
       "    }\n",
       "</style>\n",
       "<table border=\"1\" class=\"dataframe\">\n",
       "  <thead>\n",
       "    <tr style=\"text-align: right;\">\n",
       "      <th></th>\n",
       "      <th>Discount</th>\n",
       "      <th>Total_Quantity</th>\n",
       "    </tr>\n",
       "  </thead>\n",
       "  <tbody>\n",
       "    <tr>\n",
       "      <th>0</th>\n",
       "      <td>0.0</td>\n",
       "      <td>28599</td>\n",
       "    </tr>\n",
       "    <tr>\n",
       "      <th>1</th>\n",
       "      <td>1.0</td>\n",
       "      <td>2</td>\n",
       "    </tr>\n",
       "    <tr>\n",
       "      <th>2</th>\n",
       "      <td>2.0</td>\n",
       "      <td>4</td>\n",
       "    </tr>\n",
       "    <tr>\n",
       "      <th>3</th>\n",
       "      <td>3.0</td>\n",
       "      <td>5</td>\n",
       "    </tr>\n",
       "    <tr>\n",
       "      <th>4</th>\n",
       "      <td>4.0</td>\n",
       "      <td>1</td>\n",
       "    </tr>\n",
       "    <tr>\n",
       "      <th>5</th>\n",
       "      <td>5.0</td>\n",
       "      <td>5182</td>\n",
       "    </tr>\n",
       "    <tr>\n",
       "      <th>6</th>\n",
       "      <td>6.0</td>\n",
       "      <td>2</td>\n",
       "    </tr>\n",
       "    <tr>\n",
       "      <th>7</th>\n",
       "      <td>10.0</td>\n",
       "      <td>4366</td>\n",
       "    </tr>\n",
       "    <tr>\n",
       "      <th>8</th>\n",
       "      <td>15.0</td>\n",
       "      <td>4456</td>\n",
       "    </tr>\n",
       "    <tr>\n",
       "      <th>9</th>\n",
       "      <td>20.0</td>\n",
       "      <td>4351</td>\n",
       "    </tr>\n",
       "    <tr>\n",
       "      <th>10</th>\n",
       "      <td>25.0</td>\n",
       "      <td>4349</td>\n",
       "    </tr>\n",
       "  </tbody>\n",
       "</table>\n",
       "</div>"
      ],
      "text/plain": [
       "    Discount  Total_Quantity\n",
       "0        0.0           28599\n",
       "1        1.0               2\n",
       "2        2.0               4\n",
       "3        3.0               5\n",
       "4        4.0               1\n",
       "5        5.0            5182\n",
       "6        6.0               2\n",
       "7       10.0            4366\n",
       "8       15.0            4456\n",
       "9       20.0            4351\n",
       "10      25.0            4349"
      ]
     },
     "execution_count": 5,
     "metadata": {},
     "output_type": "execute_result"
    }
   ],
   "source": [
    "df_dis = pd.read_sql_query(\"\"\"SELECT Discount * 100 AS Discount, SUM(Quantity) as \n",
    "                            Total_Quantity FROM Orderdetail GROUP BY Discount;\"\"\",conn)\n",
    "df_dis"
   ]
  },
  {
   "cell_type": "markdown",
   "metadata": {},
   "source": [
    "From this DataFrame, we can learn that the discounts that have the largest quantity are:\n",
    "- 0% with a total of 28599 products ordered\n",
    "- 5% with a total of 5182 products ordered\n",
    "- 10% with a total of 4366 products ordered \n",
    "- 15% with a total of 4456 products ordered \n",
    "- 20% with a total of 4351 products ordered\n",
    "- 25% with a total of 4339 products ordered\n",
    "\n",
    "Thus, it would be prudent to focus on these 6 discount categories if/when we can reject the null hypothesis to where then the focus would be which levels of discount affect the quantity ordered the most. In the meantime let's focus on determining whether there is a significant effect between discount and quantity order. Thus to do that let's separate the data based on whether a discount was applied to an order or not and find if the sample size is large enough when evaluating the quantity per order for each ground (discount vs. no discount) as well as analyze the variance and mean of the samples.\n",
    "\n"
   ]
  },
  {
   "cell_type": "code",
   "execution_count": 6,
   "metadata": {},
   "outputs": [
    {
     "name": "stdout",
     "output_type": "stream",
     "text": [
      "The average quantity ordered when a discount is not applied is: 52.44\n",
      "The average quantity ordered when a discount is applied is: 72.94\n",
      "The variance of quanitity order when a discount is not applied is: 2326.46\n",
      "The variance of quanitity order when a discount is applied is: 2635.41\n",
      "The sample size of the orders with no discount applied is 450\n",
      "The sample size of the orders with discount applied is 380\n"
     ]
    }
   ],
   "source": [
    "df = pd.read_sql_query(\"\"\"SELECT OrderId, Sum(Quantity) as quantity, \n",
    "                        Avg(Discount) as average_discount FROM OrderDetail\n",
    "                            GROUP BY OrderId;\"\"\",conn)\n",
    "df_no = df[df['average_discount'] == 0]\n",
    "df_yes = df[df['average_discount'] > 0]\n",
    "print('The average quantity ordered when a discount is not applied is: {}'.format(round(df_no.quantity.mean(),2)))\n",
    "print('The average quantity ordered when a discount is applied is: {}'.format(round(df_yes.quantity.mean(),2)))\n",
    "print('The variance of quanitity order when a discount is not applied is: {}'.format(round(np.var(df_no.quantity),2)))\n",
    "print('The variance of quanitity order when a discount is applied is: {}'.format(round(np.var(df_yes.quantity),2)))\n",
    "print('The sample size of the orders with no discount applied is {}'.format(len(df_no)))\n",
    "print('The sample size of the orders with discount applied is {}'.format(len(df_yes)))"
   ]
  },
  {
   "cell_type": "code",
   "execution_count": 7,
   "metadata": {},
   "outputs": [
    {
     "data": {
      "text/plain": [
       "LeveneResult(statistic=1.0369358925445291, pvalue=0.30883261672605483)"
      ]
     },
     "execution_count": 7,
     "metadata": {},
     "output_type": "execute_result"
    }
   ],
   "source": [
    "stats.levene(df_yes.quantity, df_no.quantity, center='mean')"
   ]
  },
  {
   "cell_type": "markdown",
   "metadata": {},
   "source": [
    "This information is key in deciding which test to use as the number of samples seem to be over 30 but the two groups being compared have different sample sizes as well as different variances. Thus, a Welch-T-test seems appropriate. To confirm this, let's next observe the data's distribution to see if it is normal."
   ]
  },
  {
   "cell_type": "code",
   "execution_count": 54,
   "metadata": {},
   "outputs": [
    {
     "data": {
      "image/png": "[encoded data removed]",
      "text/plain": [
       "<Figure size 576x432 with 1 Axes>"
      ]
     },
     "metadata": {
      "needs_background": "light"
     },
     "output_type": "display_data"
    }
   ],
   "source": [
    "plt.figure(figsize = (8,6))\n",
    "sns.distplot(df_no.quantity, bins = 50, label = 'Quantity per Order without Discount')\n",
    "sns.distplot(df_yes.quantity, bins = 50, label = 'Quantity per Order with Discount')\n",
    "plt.legend()\n",
    "plt.xlabel('Quantity')\n",
    "plt.ylabel('Frequency')\n",
    "plt.title('Distribution Plot of Quantity of Product in an Order')\n",
    "plt.savefig('q1_dist.jpg')\n",
    "plt.show()"
   ]
  },
  {
   "cell_type": "markdown",
   "metadata": {},
   "source": [
    "From this distribution plot one can assume that the data is not normally distributed but to further confirm this point let's implement a Kolmogorov-Smirnov Test."
   ]
  },
  {
   "cell_type": "code",
   "execution_count": 9,
   "metadata": {},
   "outputs": [],
   "source": [
    "def ks_test(data):\n",
    "    ks_statistic, p_value = stats.kstest(data, 'norm')\n",
    "    if p_value >= 0.05:\n",
    "        print('The data is normally distributed!')\n",
    "    elif p_value < .05:\n",
    "        print('The data is not normally distributed')"
   ]
  },
  {
   "cell_type": "code",
   "execution_count": 10,
   "metadata": {},
   "outputs": [
    {
     "name": "stdout",
     "output_type": "stream",
     "text": [
      "Is the sample of quantity per order with no discount normally distributed as defined by the K-S test? \n",
      "The data is not normally distributed\n",
      "Is the sample of quantity per order with discount normally distributed as defined by the K-S test? \n",
      "The data is not normally distributed\n"
     ]
    }
   ],
   "source": [
    "print('Is the sample of quantity per order with no discount normally distributed as defined by the K-S test? ')\n",
    "ks_test(df_no.quantity)\n",
    "print('Is the sample of quantity per order with discount normally distributed as defined by the K-S test? ')\n",
    "ks_test(df_yes.quantity)"
   ]
  },
  {
   "cell_type": "markdown",
   "metadata": {},
   "source": [
    "From this we can see that indeed these two sets of data are not normally distributed but since the average sample size is greater than 30 we can move along and apply a Welch-t-test as seen below. "
   ]
  },
  {
   "cell_type": "code",
   "execution_count": 11,
   "metadata": {},
   "outputs": [],
   "source": [
    "def welch_t(a, b):\n",
    "    \n",
    "    \"\"\" Calculate Welch's t statistic for two samples. \"\"\"\n",
    "    \n",
    "    numerator = a.mean() - b.mean()\n",
    "    \n",
    "    # “ddof = Delta Degrees of Freedom”: the divisor used in the calculation is N - ddof, \n",
    "    #  where N represents the number of elements. By default ddof is zero.\n",
    "    \n",
    "    denominator = np.sqrt(a.var(ddof=1)/a.size + b.var(ddof=1)/b.size)\n",
    "    t = np.abs(numerator/denominator)\n",
    "    \n",
    "    return t\n",
    "\n",
    "def welch_df(a, b):\n",
    "    \n",
    "    \"\"\" Calculate the effective degrees of freedom for two samples. \"\"\"\n",
    "    s1 = a.var(ddof=1) \n",
    "    s2 = b.var(ddof=1)\n",
    "    n1 = a.size\n",
    "    n2 = b.size\n",
    "    numerator = (s1/n1 + s2/n2)**2\n",
    "    denominator = (s1/ n1)**2/(n1 - 1) + (s2/ n2)**2/(n2 - 1)\n",
    "    df = numerator/denominator\n",
    "    \n",
    "    return round(df, 0)\n",
    "   \n",
    "     #Return the degrees of freedom\n",
    "\n",
    "def welch_t_p_value(a, b, two_sided=False):\n",
    "    \n",
    "    t = welch_t(a,b)\n",
    "    df = welch_df(a,b)\n",
    "    \n",
    "    p = 1 - stats.t.cdf(t, df)\n",
    "    \n",
    "    if two_sided:\n",
    "        return 2*p\n",
    "    else:\n",
    "        return p"
   ]
  },
  {
   "cell_type": "code",
   "execution_count": 12,
   "metadata": {},
   "outputs": [
    {
     "data": {
      "text/plain": [
       "5.850437467813663e-09"
      ]
     },
     "execution_count": 12,
     "metadata": {},
     "output_type": "execute_result"
    }
   ],
   "source": [
    "welch_t_p_value(df_no.quantity, df_yes.quantity, two_sided = True)"
   ]
  },
  {
   "cell_type": "markdown",
   "metadata": {},
   "source": [
    "As we can see the test results in a p-value that is smaller than 0.05 and thus we can reject the null hypothesis. Let's now focus on the effect size of the samples by calculating Cohen's d. "
   ]
  },
  {
   "cell_type": "code",
   "execution_count": 13,
   "metadata": {},
   "outputs": [],
   "source": [
    "def Cohen_d(group1, group2):\n",
    "\n",
    "    # Compute Cohen's d.\n",
    "\n",
    "    # group1: Series or NumPy array\n",
    "    # group2: Series or NumPy array\n",
    "\n",
    "    # returns a floating point number \n",
    "\n",
    "    diff = group1.mean() - group2.mean()\n",
    "\n",
    "    n1, n2 = len(group1), len(group2)\n",
    "    var1 = group1.var()\n",
    "    var2 = group2.var()\n",
    "\n",
    "    # Calculate the pooled threshold as shown earlier\n",
    "    pooled_var = (n1 * var1 + n2 * var2) / (n1 + n2)\n",
    "    \n",
    "    # Calculate Cohen's d statistic\n",
    "    d = diff / np.sqrt(pooled_var)\n",
    "    \n",
    "    return d"
   ]
  },
  {
   "cell_type": "code",
   "execution_count": 14,
   "metadata": {},
   "outputs": [
    {
     "data": {
      "text/plain": [
       "0.4122521666326047"
      ]
     },
     "execution_count": 14,
     "metadata": {},
     "output_type": "execute_result"
    }
   ],
   "source": [
    "Cohen_d(df_yes.quantity, df_no.quantity)"
   ]
  },
  {
   "cell_type": "code",
   "execution_count": 15,
   "metadata": {},
   "outputs": [
    {
     "data": {
      "text/plain": [
       "LeveneResult(statistic=1.0369358925445291, pvalue=0.30883261672605483)"
      ]
     },
     "execution_count": 15,
     "metadata": {},
     "output_type": "execute_result"
    }
   ],
   "source": [
    "stats.levene(df_yes.quantity, df_no.quantity, center='mean')"
   ]
  },
  {
   "cell_type": "markdown",
   "metadata": {},
   "source": [
    "The effect size close the medium (0.5). Let's now assess the effect and subsequent significant difference of those discount categories we previously found. This helps to find which levels of discount have a significant difference and to what extent. Thus to do this let's first separate the data based on different discount levels. From there we will compare each discount level to samples that had no discount applied. "
   ]
  },
  {
   "cell_type": "code",
   "execution_count": 34,
   "metadata": {},
   "outputs": [
    {
     "data": {
      "text/html": [
       "<div>\n",
       "<style scoped>\n",
       "    .dataframe tbody tr th:only-of-type {\n",
       "        vertical-align: middle;\n",
       "    }\n",
       "\n",
       "    .dataframe tbody tr th {\n",
       "        vertical-align: top;\n",
       "    }\n",
       "\n",
       "    .dataframe thead th {\n",
       "        text-align: right;\n",
       "    }\n",
       "</style>\n",
       "<table border=\"1\" class=\"dataframe\">\n",
       "  <thead>\n",
       "    <tr style=\"text-align: right;\">\n",
       "      <th></th>\n",
       "      <th>ProductName</th>\n",
       "      <th>Discount</th>\n",
       "      <th>Quantity</th>\n",
       "      <th>Price</th>\n",
       "    </tr>\n",
       "  </thead>\n",
       "  <tbody>\n",
       "    <tr>\n",
       "      <th>0</th>\n",
       "      <td>Mozzarella di Giovanni</td>\n",
       "      <td>0</td>\n",
       "      <td>5</td>\n",
       "      <td>174.00</td>\n",
       "    </tr>\n",
       "    <tr>\n",
       "      <th>1</th>\n",
       "      <td>Queso Cabrales</td>\n",
       "      <td>0</td>\n",
       "      <td>12</td>\n",
       "      <td>168.00</td>\n",
       "    </tr>\n",
       "    <tr>\n",
       "      <th>2</th>\n",
       "      <td>Singaporean Hokkien Fried Mee</td>\n",
       "      <td>0</td>\n",
       "      <td>10</td>\n",
       "      <td>98.00</td>\n",
       "    </tr>\n",
       "    <tr>\n",
       "      <th>3</th>\n",
       "      <td>Manjimup Dried Apples</td>\n",
       "      <td>0</td>\n",
       "      <td>40</td>\n",
       "      <td>1696.00</td>\n",
       "    </tr>\n",
       "    <tr>\n",
       "      <th>4</th>\n",
       "      <td>Tofu</td>\n",
       "      <td>0</td>\n",
       "      <td>9</td>\n",
       "      <td>167.40</td>\n",
       "    </tr>\n",
       "    <tr>\n",
       "      <th>5</th>\n",
       "      <td>Jack's New England Clam Chowder</td>\n",
       "      <td>0</td>\n",
       "      <td>10</td>\n",
       "      <td>77.00</td>\n",
       "    </tr>\n",
       "    <tr>\n",
       "      <th>6</th>\n",
       "      <td>Louisiana Fiery Hot Pepper Sauce</td>\n",
       "      <td>15</td>\n",
       "      <td>15</td>\n",
       "      <td>214.20</td>\n",
       "    </tr>\n",
       "    <tr>\n",
       "      <th>7</th>\n",
       "      <td>Manjimup Dried Apples</td>\n",
       "      <td>15</td>\n",
       "      <td>35</td>\n",
       "      <td>1261.40</td>\n",
       "    </tr>\n",
       "    <tr>\n",
       "      <th>8</th>\n",
       "      <td>Gustaf's Knäckebröd</td>\n",
       "      <td>5</td>\n",
       "      <td>6</td>\n",
       "      <td>95.76</td>\n",
       "    </tr>\n",
       "    <tr>\n",
       "      <th>9</th>\n",
       "      <td>Louisiana Fiery Hot Pepper Sauce</td>\n",
       "      <td>0</td>\n",
       "      <td>20</td>\n",
       "      <td>336.00</td>\n",
       "    </tr>\n",
       "    <tr>\n",
       "      <th>10</th>\n",
       "      <td>Ravioli Angelo</td>\n",
       "      <td>5</td>\n",
       "      <td>15</td>\n",
       "      <td>222.30</td>\n",
       "    </tr>\n",
       "    <tr>\n",
       "      <th>11</th>\n",
       "      <td>Camembert Pierrot</td>\n",
       "      <td>0</td>\n",
       "      <td>40</td>\n",
       "      <td>1088.00</td>\n",
       "    </tr>\n",
       "    <tr>\n",
       "      <th>12</th>\n",
       "      <td>Geitost</td>\n",
       "      <td>5</td>\n",
       "      <td>25</td>\n",
       "      <td>47.50</td>\n",
       "    </tr>\n",
       "    <tr>\n",
       "      <th>13</th>\n",
       "      <td>Sir Rodney's Marmalade</td>\n",
       "      <td>5</td>\n",
       "      <td>40</td>\n",
       "      <td>2462.40</td>\n",
       "    </tr>\n",
       "    <tr>\n",
       "      <th>14</th>\n",
       "      <td>Chartreuse verte</td>\n",
       "      <td>0</td>\n",
       "      <td>42</td>\n",
       "      <td>604.80</td>\n",
       "    </tr>\n",
       "  </tbody>\n",
       "</table>\n",
       "</div>"
      ],
      "text/plain": [
       "                         ProductName  Discount  Quantity    Price\n",
       "0             Mozzarella di Giovanni         0         5   174.00\n",
       "1                     Queso Cabrales         0        12   168.00\n",
       "2      Singaporean Hokkien Fried Mee         0        10    98.00\n",
       "3              Manjimup Dried Apples         0        40  1696.00\n",
       "4                               Tofu         0         9   167.40\n",
       "5    Jack's New England Clam Chowder         0        10    77.00\n",
       "6   Louisiana Fiery Hot Pepper Sauce        15        15   214.20\n",
       "7              Manjimup Dried Apples        15        35  1261.40\n",
       "8                Gustaf's Knäckebröd         5         6    95.76\n",
       "9   Louisiana Fiery Hot Pepper Sauce         0        20   336.00\n",
       "10                    Ravioli Angelo         5        15   222.30\n",
       "11                 Camembert Pierrot         0        40  1088.00\n",
       "12                           Geitost         5        25    47.50\n",
       "13            Sir Rodney's Marmalade         5        40  2462.40\n",
       "14                  Chartreuse verte         0        42   604.80"
      ]
     },
     "execution_count": 34,
     "metadata": {},
     "output_type": "execute_result"
    }
   ],
   "source": [
    "\n",
    "df_dis = pd.read_sql_query(\"\"\"SELECT ProductName, CAST (Discount * 100 AS INT) AS Discount, Quantity AS Quantity,\n",
    "                        SUM(Quantity * OrderDetail.UnitPrice * (1 - Discount)) AS Price\n",
    "                       FROM OrderDetail JOIN Product ON OrderDetail.ProductID = Product.ID\n",
    "                       GROUP BY OrderID, ProductName\n",
    "                       HAVING Discount IN (0, 0.05, 0.10, 0.15, 0.20, 0.25);\"\"\", conn)\n",
    "\n",
    "df_dis.head(15)"
   ]
  },
  {
   "cell_type": "code",
   "execution_count": 49,
   "metadata": {},
   "outputs": [
    {
     "data": {
      "image/png": "[encoded data removed]",
      "text/plain": [
       "<Figure size 468x360 with 1 Axes>"
      ]
     },
     "metadata": {
      "needs_background": "light"
     },
     "output_type": "display_data"
    }
   ],
   "source": [
    "sns.catplot(x = 'Discount', y = 'Quantity', kind = 'bar', data = df_dis,height=5, aspect=1.3)\n",
    "plt.xticks(rotation=70)\n",
    "plt.title('Average Quantity of an Order Based on Discount')\n",
    "plt.xlabel('Discount (%)')\n",
    "plt.savefig('q1_quantity.jpg',bbox_inches='tight')\n",
    "plt.show()"
   ]
  },
  {
   "cell_type": "code",
   "execution_count": 50,
   "metadata": {},
   "outputs": [
    {
     "data": {
      "image/png": "[encoded data removed]",
      "text/plain": [
       "<Figure size 468x360 with 1 Axes>"
      ]
     },
     "metadata": {
      "needs_background": "light"
     },
     "output_type": "display_data"
    }
   ],
   "source": [
    "sns.catplot(x = 'Discount', y = 'Price', kind = 'bar', data = df_dis,height=5, aspect=1.3)\n",
    "plt.xticks(rotation=70)\n",
    "plt.title('Average Price of an Order Based on Discount')\n",
    "plt.xlabel('Discount (%)')\n",
    "plt.savefig('q1_price.jpg', bbox_inches='tight')\n",
    "plt.show()"
   ]
  },
  {
   "cell_type": "code",
   "execution_count": 17,
   "metadata": {},
   "outputs": [
    {
     "name": "stdout",
     "output_type": "stream",
     "text": [
      "The p_value using the Welch T-test for 5% discount is: 0.00027243794492748385\n",
      "Cohen's d for 5% discount is: 0.3468767736284547\n",
      "---------------------------------------------------------\n",
      "The p_value using the Welch T-test for 10% discount is: 0.037456123765644334\n",
      "Cohen's d for 10% discount is: 0.19594203057834103\n",
      "---------------------------------------------------------\n",
      "The p_value using the Welch T-test for 15% discount is: 0.00017220075988877426\n",
      "Cohen's d for 15% discount is: 0.3724041317472811\n",
      "---------------------------------------------------------\n",
      "The p_value using the Welch T-test for 20% discount is: 0.0008112569783553791\n",
      "Cohen's d for 20% discount is: 0.3007122542913555\n",
      "---------------------------------------------------------\n",
      "The p_value using the Welch T-test for 25% discount is: 0.00015926484254569218\n",
      "Cohen's d for 25% discount is: 0.3665925565267444\n",
      "---------------------------------------------------------\n"
     ]
    }
   ],
   "source": [
    "for discount in [5, 10, 15, 20, 25]:\n",
    "    p = welch_t_p_value(df_dis[df_dis['Discount'] == 0].Quantity, df_dis[df_dis['Discount'] == discount].Quantity, two_sided = True)\n",
    "    d = Cohen_d(df_dis[df_dis['Discount'] == 0].Quantity, df_dis[df_dis['Discount'] == discount].Quantity)\n",
    "    print('The p_value using the Welch T-test for {}% discount is: {}'.format(discount,p))\n",
    "    print(\"Cohen's d for {}% discount is: {}\".format(discount,abs(d)))\n",
    "    print('---------------------------------------------------------')"
   ]
  },
  {
   "cell_type": "markdown",
   "metadata": {},
   "source": [
    "From this, we see that every discount level has a significant difference on the quantity ordered. In addition the discount level that has the largest effect is 15% followed by 25%. Thus because of the fact that the two samples in question have different variances and sample size, a Welch T-test is used where $\\alpha$ is set to 0.05. The resulting p-value when evaluating orders with discounts vs orders without was lower than the 0.05 threshold. Furthermore, each discount group with a large amount of quantity order was compared to orders with no discounts via a Welch T-test and the resulting p-values were also all under the threshold. Therefore one can reject the null hypothesis that discount does not have a statistically significant effect on the quantity of the product in an order. We can now transition to the next question that we will attempt to answer.\n"
   ]
  },
  {
   "cell_type": "markdown",
   "metadata": {},
   "source": [
    "### Question 2: Does customer region have a statistically significant effect on the quantity of a product and/or the price in an order?\n",
    "\n",
    "First, let's set up our hypotheses:\n",
    "\n",
    "- $H_{o}$: Region has no statistically significant effect on the quantity or price of a product in an order\n",
    "- $H_{a}$: Region has a statistically significant effect on the quantity or price of a product in an order\n",
    "\n",
    "For now we will set $\\alpha = 0.05$. To test this hypothesis, let's first examine how many regions there are and see if there are any interesting insights we can gain based on the total quantity or total price. Note that to calculate the total price the equation is as follows:\n",
    "\n",
    "$$Total Price = Quantity * Unit Price * (1- Discount)$$\n",
    "\n"
   ]
  },
  {
   "cell_type": "code",
   "execution_count": 18,
   "metadata": {
    "scrolled": true
   },
   "outputs": [
    {
     "data": {
      "text/html": [
       "<div>\n",
       "<style scoped>\n",
       "    .dataframe tbody tr th:only-of-type {\n",
       "        vertical-align: middle;\n",
       "    }\n",
       "\n",
       "    .dataframe tbody tr th {\n",
       "        vertical-align: top;\n",
       "    }\n",
       "\n",
       "    .dataframe thead th {\n",
       "        text-align: right;\n",
       "    }\n",
       "</style>\n",
       "<table border=\"1\" class=\"dataframe\">\n",
       "  <thead>\n",
       "    <tr style=\"text-align: right;\">\n",
       "      <th></th>\n",
       "      <th>Region</th>\n",
       "      <th>Total_Quantity</th>\n",
       "      <th>Total_Price</th>\n",
       "    </tr>\n",
       "  </thead>\n",
       "  <tbody>\n",
       "    <tr>\n",
       "      <th>0</th>\n",
       "      <td>British Isles</td>\n",
       "      <td>4426</td>\n",
       "      <td>108951.2150</td>\n",
       "    </tr>\n",
       "    <tr>\n",
       "      <th>1</th>\n",
       "      <td>Central America</td>\n",
       "      <td>666</td>\n",
       "      <td>16558.1000</td>\n",
       "    </tr>\n",
       "    <tr>\n",
       "      <th>2</th>\n",
       "      <td>Eastern Europe</td>\n",
       "      <td>205</td>\n",
       "      <td>3531.9500</td>\n",
       "    </tr>\n",
       "    <tr>\n",
       "      <th>3</th>\n",
       "      <td>North America</td>\n",
       "      <td>11314</td>\n",
       "      <td>295780.9005</td>\n",
       "    </tr>\n",
       "    <tr>\n",
       "      <th>4</th>\n",
       "      <td>Northern Europe</td>\n",
       "      <td>3405</td>\n",
       "      <td>87156.1625</td>\n",
       "    </tr>\n",
       "    <tr>\n",
       "      <th>5</th>\n",
       "      <td>Scandinavia</td>\n",
       "      <td>1046</td>\n",
       "      <td>24545.2025</td>\n",
       "    </tr>\n",
       "    <tr>\n",
       "      <th>6</th>\n",
       "      <td>South America</td>\n",
       "      <td>6359</td>\n",
       "      <td>142677.8080</td>\n",
       "    </tr>\n",
       "    <tr>\n",
       "      <th>7</th>\n",
       "      <td>Southern Europe</td>\n",
       "      <td>2073</td>\n",
       "      <td>45225.7175</td>\n",
       "    </tr>\n",
       "    <tr>\n",
       "      <th>8</th>\n",
       "      <td>Western Europe</td>\n",
       "      <td>20221</td>\n",
       "      <td>503548.4085</td>\n",
       "    </tr>\n",
       "  </tbody>\n",
       "</table>\n",
       "</div>"
      ],
      "text/plain": [
       "            Region  Total_Quantity  Total_Price\n",
       "0    British Isles            4426  108951.2150\n",
       "1  Central America             666   16558.1000\n",
       "2   Eastern Europe             205    3531.9500\n",
       "3    North America           11314  295780.9005\n",
       "4  Northern Europe            3405   87156.1625\n",
       "5      Scandinavia            1046   24545.2025\n",
       "6    South America            6359  142677.8080\n",
       "7  Southern Europe            2073   45225.7175\n",
       "8   Western Europe           20221  503548.4085"
      ]
     },
     "execution_count": 18,
     "metadata": {},
     "output_type": "execute_result"
    }
   ],
   "source": [
    "pd.read_sql_query(\"\"\"SELECT Region, SUM(Quantity) as Total_Quantity,SUM(Quantity * UnitPrice * (1 - Discount)) AS Total_Price From customer\n",
    "                    JOIN [Order] ON customer.id = [Order].CustomerID\n",
    "                    JOIN OrderDetail ON [Order].id = Orderdetail.orderid\n",
    "                    GROUP BY Region;\"\"\",conn)"
   ]
  },
  {
   "cell_type": "markdown",
   "metadata": {},
   "source": [
    "From this we can see that what the total quantity and total price ordered for each region. Thus in this case we want to compare multiple samples simultaneously, and thus in order to reduce the cumulative risk that comes about with this process, we are going to apply a Bonferroni correction to our threshold that is $\\alpha$. This can be done by dividing alpha by the number of comparisons one is trying to make to get a new adjusted threshold. In our case this number of comparisons is 9 and thus the new threshold is: $\\alpha_{adjusted} = 0.005556$. Let's now create a DataFrame that is ready to by tested."
   ]
  },
  {
   "cell_type": "code",
   "execution_count": 19,
   "metadata": {},
   "outputs": [
    {
     "data": {
      "text/html": [
       "<div>\n",
       "<style scoped>\n",
       "    .dataframe tbody tr th:only-of-type {\n",
       "        vertical-align: middle;\n",
       "    }\n",
       "\n",
       "    .dataframe tbody tr th {\n",
       "        vertical-align: top;\n",
       "    }\n",
       "\n",
       "    .dataframe thead th {\n",
       "        text-align: right;\n",
       "    }\n",
       "</style>\n",
       "<table border=\"1\" class=\"dataframe\">\n",
       "  <thead>\n",
       "    <tr style=\"text-align: right;\">\n",
       "      <th></th>\n",
       "      <th>Region</th>\n",
       "      <th>Total_Quantity</th>\n",
       "      <th>Total_Price</th>\n",
       "    </tr>\n",
       "  </thead>\n",
       "  <tbody>\n",
       "    <tr>\n",
       "      <th>0</th>\n",
       "      <td>Western Europe</td>\n",
       "      <td>27</td>\n",
       "      <td>440.00</td>\n",
       "    </tr>\n",
       "    <tr>\n",
       "      <th>1</th>\n",
       "      <td>Western Europe</td>\n",
       "      <td>49</td>\n",
       "      <td>1863.40</td>\n",
       "    </tr>\n",
       "    <tr>\n",
       "      <th>2</th>\n",
       "      <td>South America</td>\n",
       "      <td>60</td>\n",
       "      <td>1552.60</td>\n",
       "    </tr>\n",
       "    <tr>\n",
       "      <th>3</th>\n",
       "      <td>Western Europe</td>\n",
       "      <td>41</td>\n",
       "      <td>654.06</td>\n",
       "    </tr>\n",
       "    <tr>\n",
       "      <th>4</th>\n",
       "      <td>Western Europe</td>\n",
       "      <td>105</td>\n",
       "      <td>3597.90</td>\n",
       "    </tr>\n",
       "  </tbody>\n",
       "</table>\n",
       "</div>"
      ],
      "text/plain": [
       "           Region  Total_Quantity  Total_Price\n",
       "0  Western Europe              27       440.00\n",
       "1  Western Europe              49      1863.40\n",
       "2   South America              60      1552.60\n",
       "3  Western Europe              41       654.06\n",
       "4  Western Europe             105      3597.90"
      ]
     },
     "execution_count": 19,
     "metadata": {},
     "output_type": "execute_result"
    }
   ],
   "source": [
    "df_reg = pd.read_sql_query(\"\"\"SELECT Region, SUM(Quantity) as Total_Quantity,SUM(Quantity * UnitPrice * (1 - Discount)) AS Total_Price\n",
    "                    From customer\n",
    "                    JOIN [Order] ON customer.id = [Order].CustomerID\n",
    "                    JOIN OrderDetail ON [Order].id = Orderdetail.orderid\n",
    "                    GROUP BY orderid;\"\"\",conn)\n",
    "df_reg.head()"
   ]
  },
  {
   "cell_type": "markdown",
   "metadata": {},
   "source": [
    "We now have created the proper DataFrame to perform a hypothesis test. Due to the fact that this test requires multiple comparisons of 9 samples of data, an Analysis of Variance (ANOVA) is used."
   ]
  },
  {
   "cell_type": "code",
   "execution_count": 20,
   "metadata": {
    "scrolled": true
   },
   "outputs": [
    {
     "name": "stdout",
     "output_type": "stream",
     "text": [
      "                 sum_sq     df         F        PR(>F)\n",
      "C(Region)  1.835377e+05    8.0  9.494281  1.357462e-12\n",
      "Residual   1.913808e+06  792.0       NaN           NaN\n"
     ]
    }
   ],
   "source": [
    "formula = 'Total_Quantity ~ C(Region)'\n",
    "lm = ols(formula, df_reg).fit()\n",
    "table = sm.stats.anova_lm(lm, typ=2)\n",
    "print(table)"
   ]
  },
  {
   "cell_type": "code",
   "execution_count": 21,
   "metadata": {},
   "outputs": [
    {
     "name": "stdout",
     "output_type": "stream",
     "text": [
      "                 sum_sq     df         F        PR(>F)\n",
      "C(Region)  1.502147e+08    8.0  5.739638  4.009445e-07\n",
      "Residual   2.590974e+09  792.0       NaN           NaN\n"
     ]
    }
   ],
   "source": [
    "formula = 'Total_Price ~ C(Region)'\n",
    "lm = ols(formula, df_reg).fit()\n",
    "table = sm.stats.anova_lm(lm, typ=2)\n",
    "print(table)"
   ]
  },
  {
   "cell_type": "markdown",
   "metadata": {},
   "source": [
    "These results help reject the null hypothesis and conclude that region does in fact cause a statistically significant difference in price per order and quantity ordered. However, to gain further insight and assess the value of this finding, let's divide the regions by top regions and bottom regions based on the total price and total quantity. So let's find where we can potentially make this division of top and bottom regions in terms of the criteria previously defined."
   ]
  },
  {
   "cell_type": "code",
   "execution_count": 22,
   "metadata": {},
   "outputs": [
    {
     "data": {
      "text/html": [
       "<div>\n",
       "<style scoped>\n",
       "    .dataframe tbody tr th:only-of-type {\n",
       "        vertical-align: middle;\n",
       "    }\n",
       "\n",
       "    .dataframe tbody tr th {\n",
       "        vertical-align: top;\n",
       "    }\n",
       "\n",
       "    .dataframe thead th {\n",
       "        text-align: right;\n",
       "    }\n",
       "</style>\n",
       "<table border=\"1\" class=\"dataframe\">\n",
       "  <thead>\n",
       "    <tr style=\"text-align: right;\">\n",
       "      <th></th>\n",
       "      <th>Region</th>\n",
       "      <th>Total_Quantity</th>\n",
       "      <th>Total_Price</th>\n",
       "    </tr>\n",
       "  </thead>\n",
       "  <tbody>\n",
       "    <tr>\n",
       "      <th>0</th>\n",
       "      <td>Eastern Europe</td>\n",
       "      <td>205</td>\n",
       "      <td>3531.9500</td>\n",
       "    </tr>\n",
       "    <tr>\n",
       "      <th>1</th>\n",
       "      <td>Central America</td>\n",
       "      <td>666</td>\n",
       "      <td>16558.1000</td>\n",
       "    </tr>\n",
       "    <tr>\n",
       "      <th>2</th>\n",
       "      <td>Scandinavia</td>\n",
       "      <td>1046</td>\n",
       "      <td>24545.2025</td>\n",
       "    </tr>\n",
       "    <tr>\n",
       "      <th>3</th>\n",
       "      <td>Southern Europe</td>\n",
       "      <td>2073</td>\n",
       "      <td>45225.7175</td>\n",
       "    </tr>\n",
       "    <tr>\n",
       "      <th>4</th>\n",
       "      <td>Northern Europe</td>\n",
       "      <td>3405</td>\n",
       "      <td>87156.1625</td>\n",
       "    </tr>\n",
       "    <tr>\n",
       "      <th>5</th>\n",
       "      <td>British Isles</td>\n",
       "      <td>4426</td>\n",
       "      <td>108951.2150</td>\n",
       "    </tr>\n",
       "    <tr>\n",
       "      <th>6</th>\n",
       "      <td>South America</td>\n",
       "      <td>6359</td>\n",
       "      <td>142677.8080</td>\n",
       "    </tr>\n",
       "    <tr>\n",
       "      <th>7</th>\n",
       "      <td>North America</td>\n",
       "      <td>11314</td>\n",
       "      <td>295780.9005</td>\n",
       "    </tr>\n",
       "    <tr>\n",
       "      <th>8</th>\n",
       "      <td>Western Europe</td>\n",
       "      <td>20221</td>\n",
       "      <td>503548.4085</td>\n",
       "    </tr>\n",
       "  </tbody>\n",
       "</table>\n",
       "</div>"
      ],
      "text/plain": [
       "            Region  Total_Quantity  Total_Price\n",
       "0   Eastern Europe             205    3531.9500\n",
       "1  Central America             666   16558.1000\n",
       "2      Scandinavia            1046   24545.2025\n",
       "3  Southern Europe            2073   45225.7175\n",
       "4  Northern Europe            3405   87156.1625\n",
       "5    British Isles            4426  108951.2150\n",
       "6    South America            6359  142677.8080\n",
       "7    North America           11314  295780.9005\n",
       "8   Western Europe           20221  503548.4085"
      ]
     },
     "execution_count": 22,
     "metadata": {},
     "output_type": "execute_result"
    }
   ],
   "source": [
    "pd.read_sql_query(\"\"\"SELECT Region, SUM(Quantity) as Total_Quantity,SUM(Quantity * UnitPrice * (1 - Discount)) AS Total_Price From customer\n",
    "                    JOIN [Order] ON customer.id = [Order].CustomerID\n",
    "                    JOIN OrderDetail ON [Order].id = Orderdetail.orderid\n",
    "                    GROUP BY Region ORDER BY (Total_Price);\"\"\",conn)"
   ]
  },
  {
   "cell_type": "markdown",
   "metadata": {},
   "source": [
    "We are going to create these groups based on the criteria of Total Price.Thus, it looks as though the top and bottom regions are as follows:\n",
    "\n",
    "- Top Regions:\n",
    "    - Western Europe\n",
    "    - North America \n",
    "    - South America \n",
    "    - British Isles\n",
    "    - Northern Europe\n",
    "- Bottom Regions:\n",
    "    - Southern Europe \n",
    "    - Scandinavia\n",
    "    - Central America\n",
    "    - Eastern Europe\n",
    "    \n",
    "Let's now create these sets of data."
   ]
  },
  {
   "cell_type": "code",
   "execution_count": 23,
   "metadata": {},
   "outputs": [],
   "source": [
    "df_top = df_reg[df_reg.Region.isin(['Western Europe',\n",
    "                                            'North America','South America','Brisith Isles','Northern Europe'])]\n",
    "df_bottom = df_reg[df_reg.Region.isin(['Southern Europe','Scandinavia','Central America','Eastern Europe'])]"
   ]
  },
  {
   "cell_type": "markdown",
   "metadata": {},
   "source": [
    "In order to decide which test is appropriate for these two samples let's first analyze it's normality. To do this, we will observe the samples' distributions with respect to quantity and price and from there perform a K-S test similar to what was done in the quest answer question #1."
   ]
  },
  {
   "cell_type": "code",
   "execution_count": 25,
   "metadata": {},
   "outputs": [
    {
     "data": {
      "text/plain": [
       "Western Europe     272\n",
       "North America      152\n",
       "South America      127\n",
       "Northern Europe     55\n",
       "Name: Region, dtype: int64"
      ]
     },
     "execution_count": 25,
     "metadata": {},
     "output_type": "execute_result"
    }
   ],
   "source": [
    "df_top.Region.value_counts()"
   ]
  },
  {
   "cell_type": "code",
   "execution_count": 26,
   "metadata": {},
   "outputs": [
    {
     "data": {
      "image/png": "[encoded data removed]",
      "text/plain": [
       "<Figure size 432x288 with 1 Axes>"
      ]
     },
     "metadata": {
      "needs_background": "light"
     },
     "output_type": "display_data"
    },
    {
     "data": {
      "image/png": "[encoded data removed]",
      "text/plain": [
       "<Figure size 432x288 with 1 Axes>"
      ]
     },
     "metadata": {
      "needs_background": "light"
     },
     "output_type": "display_data"
    }
   ],
   "source": [
    "sns.distplot(df_top.Total_Quantity, bins = 50, label = 'Quantity per Order among Top Regions')\n",
    "sns.distplot(df_bottom.Total_Quantity, bins = 50, label = 'Quantity per Order among Bottom Regions')\n",
    "plt.xlabel('Quantity')\n",
    "plt.ylabel('Frequency')\n",
    "plt.legend()\n",
    "plt.show()\n",
    "sns.distplot(df_top.Total_Price, bins = 50, label = 'Total Price per Order among Top Regions')\n",
    "sns.distplot(df_bottom.Total_Price, bins = 50, label = 'Total Price per Order among Bottom Regions')\n",
    "plt.xlabel('Price')\n",
    "plt.ylabel('Frequency')\n",
    "plt.legend()\n",
    "plt.show()"
   ]
  },
  {
   "cell_type": "code",
   "execution_count": 27,
   "metadata": {},
   "outputs": [
    {
     "name": "stdout",
     "output_type": "stream",
     "text": [
      "The data is not normally distributed\n",
      "The data is not normally distributed\n",
      "The data is not normally distributed\n",
      "The data is not normally distributed\n"
     ]
    }
   ],
   "source": [
    "ks_test(df_top.Total_Quantity)\n",
    "ks_test(df_bottom.Total_Quantity)\n",
    "ks_test(df_top.Total_Price)\n",
    "ks_test(df_bottom.Total_Price)"
   ]
  },
  {
   "cell_type": "markdown",
   "metadata": {},
   "source": [
    "Based on the distributions and K-S plots, it seems as the samples are not normally distributed. Thus to decide which test to use, let's assess the sample size of the top and bottom regions."
   ]
  },
  {
   "cell_type": "code",
   "execution_count": 28,
   "metadata": {},
   "outputs": [
    {
     "name": "stdout",
     "output_type": "stream",
     "text": [
      "Sample Size of Top Regions: 606\n",
      "Sample Size of Bottom Regions: 120\n"
     ]
    }
   ],
   "source": [
    "print('Sample Size of Top Regions: {}'.format(len(df_top)))\n",
    "print('Sample Size of Bottom Regions: {}'.format(len(df_bottom)))"
   ]
  },
  {
   "cell_type": "code",
   "execution_count": 29,
   "metadata": {},
   "outputs": [
    {
     "data": {
      "text/plain": [
       "LeveneResult(statistic=43.743134396316385, pvalue=7.275638215832466e-11)"
      ]
     },
     "execution_count": 29,
     "metadata": {},
     "output_type": "execute_result"
    }
   ],
   "source": [
    "stats.levene(df_top.Total_Quantity, df_bottom.Total_Quantity, center='mean')"
   ]
  },
  {
   "cell_type": "markdown",
   "metadata": {},
   "source": [
    "As one can the sample sizes of the two datasets are quite different but over 30. Since we created the criteria to separate the data, one reevaluate the criteria that seperated the data in order to use statistical tests that require the sample sizes to be equal. However, this defeats the purpose of this analysis as the groups were decided on the  total price of orders and thus the samples cannot be altered. Furthermore, one can apply a Welch T-test because of the different sample sizes and evaluate if there is a significant difference in total price between the top and bottom region. "
   ]
  },
  {
   "cell_type": "code",
   "execution_count": 30,
   "metadata": {},
   "outputs": [
    {
     "name": "stdout",
     "output_type": "stream",
     "text": [
      "0.0\n",
      "0.0\n"
     ]
    }
   ],
   "source": [
    "print(welch_t_p_value(df_top.Total_Quantity.values, df_bottom.Total_Quantity.values, two_sided = True))\n",
    "print(welch_t_p_value(df_top.Total_Price, df_bottom.Total_Price, two_sided = True))\n"
   ]
  },
  {
   "cell_type": "markdown",
   "metadata": {},
   "source": [
    "This result helps to fully reject the null hypothesis that regions do not have a statistically significant effect on the price and quantity ordered as the regions were separated based on top and bottom regions and the two samples were then analyzed. Although the result t-value of 0 is usually unlikely, based on the criteria of the samples this makes sense as we already learned before that region does have a statistically significant affect on price and quantity ordered. Thus, let's now analyze the average order price and order quantity by region to find out how we can provide insight to the stakeholders. "
   ]
  },
  {
   "cell_type": "code",
   "execution_count": 29,
   "metadata": {},
   "outputs": [
    {
     "data": {
      "image/png": "[encoded data removed]",
      "text/plain": [
       "<Figure size 720x504 with 1 Axes>"
      ]
     },
     "metadata": {
      "needs_background": "light"
     },
     "output_type": "display_data"
    },
    {
     "data": {
      "image/png": "[encoded data removed]",
      "text/plain": [
       "<Figure size 720x504 with 1 Axes>"
      ]
     },
     "metadata": {
      "needs_background": "light"
     },
     "output_type": "display_data"
    }
   ],
   "source": [
    "df_avg = df_reg.groupby(['Region']).mean()\n",
    "df_avg.Total_Price.plot.bar(figsize = (10,7), title = 'The Average Order Price by Region')\n",
    "plt.xlabel('Region')\n",
    "plt.ylabel('Average Price per Order ')\n",
    "plt.show()\n",
    "df_avg.Total_Quantity.plot.bar(figsize = (10,7), title = 'The Average Order Quantity by Region', color = 'r')\n",
    "plt.xlabel('Region')\n",
    "plt.ylabel('Average Quantity per Order ')\n",
    "plt.show()"
   ]
  },
  {
   "cell_type": "code",
   "execution_count": 57,
   "metadata": {},
   "outputs": [
    {
     "data": {
      "image/png": "[encoded data removed]",
      "text/plain": [
       "<Figure size 576x360 with 1 Axes>"
      ]
     },
     "metadata": {
      "needs_background": "light"
     },
     "output_type": "display_data"
    },
    {
     "data": {
      "image/png": "[encoded data removed]",
      "text/plain": [
       "<Figure size 576x360 with 1 Axes>"
      ]
     },
     "metadata": {
      "needs_background": "light"
     },
     "output_type": "display_data"
    }
   ],
   "source": [
    "sns.catplot(x = 'Region', y = 'Total_Quantity', kind = 'bar', data = df_reg,height=5, aspect=1.6)\n",
    "plt.xticks(rotation=70)\n",
    "plt.ylabel('Quantity')\n",
    "plt.title('Average Quantity of Product in an Order by Region')\n",
    "plt.savefig('q2_quan.jpg', bbox_inches='tight')\n",
    "plt.show()\n",
    "sns.catplot(x = 'Region', y = 'Total_Price', kind = 'bar', data = df_reg,height=5, aspect=1.6)\n",
    "plt.xticks(rotation=70)\n",
    "plt.ylabel('Price')\n",
    "plt.title('Average Price of Product in an Order by Region')\n",
    "plt.savefig('q2_price.jpg', bbox_inches='tight')\n",
    "plt.show()"
   ]
  },
  {
   "cell_type": "markdown",
   "metadata": {},
   "source": [
    "The conclusions gained from the statistical significance of region's effect on price and quantity order combined with the figures above indicate that the bottom regions need more effort in working to increase the price and quantity ordered as their averages are lower and this difference is proven to be statistically significant. One way to address this problem could be finding out how products are being shipped to them. That is in fact our next hypothesis!"
   ]
  },
  {
   "cell_type": "markdown",
   "metadata": {},
   "source": [
    "### Question 3: Does the shipping company have a significant difference on the total price of an order?\n",
    "\n",
    "The hypotheses for this question are as follows: \n",
    "\n",
    "- $H_{o}$: Shipping company has no statistically significant effect on the price of a product in an order\n",
    "- $H_{a}$: Shipping company has a statistically significant effect on the price of a product in an order\n",
    "\n",
    "For now we will set $\\alpha = 0.05$. Now we get to test this hypothesis! To do this let's first extract the total_price per order and the respective shipping company for said order. "
   ]
  },
  {
   "cell_type": "code",
   "execution_count": 30,
   "metadata": {},
   "outputs": [
    {
     "data": {
      "text/html": [
       "<div>\n",
       "<style scoped>\n",
       "    .dataframe tbody tr th:only-of-type {\n",
       "        vertical-align: middle;\n",
       "    }\n",
       "\n",
       "    .dataframe tbody tr th {\n",
       "        vertical-align: top;\n",
       "    }\n",
       "\n",
       "    .dataframe thead th {\n",
       "        text-align: right;\n",
       "    }\n",
       "</style>\n",
       "<table border=\"1\" class=\"dataframe\">\n",
       "  <thead>\n",
       "    <tr style=\"text-align: right;\">\n",
       "      <th></th>\n",
       "      <th>Shipper</th>\n",
       "      <th>Total_price</th>\n",
       "    </tr>\n",
       "  </thead>\n",
       "  <tbody>\n",
       "    <tr>\n",
       "      <th>0</th>\n",
       "      <td>Federal Shipping</td>\n",
       "      <td>440.0000</td>\n",
       "    </tr>\n",
       "    <tr>\n",
       "      <th>1</th>\n",
       "      <td>Speedy Express</td>\n",
       "      <td>1863.4000</td>\n",
       "    </tr>\n",
       "    <tr>\n",
       "      <th>2</th>\n",
       "      <td>United Package</td>\n",
       "      <td>1552.6000</td>\n",
       "    </tr>\n",
       "    <tr>\n",
       "      <th>3</th>\n",
       "      <td>Speedy Express</td>\n",
       "      <td>654.0600</td>\n",
       "    </tr>\n",
       "    <tr>\n",
       "      <th>4</th>\n",
       "      <td>United Package</td>\n",
       "      <td>3597.9000</td>\n",
       "    </tr>\n",
       "    <tr>\n",
       "      <th>...</th>\n",
       "      <td>...</td>\n",
       "      <td>...</td>\n",
       "    </tr>\n",
       "    <tr>\n",
       "      <th>825</th>\n",
       "      <td>United Package</td>\n",
       "      <td>300.0000</td>\n",
       "    </tr>\n",
       "    <tr>\n",
       "      <th>826</th>\n",
       "      <td>United Package</td>\n",
       "      <td>232.0850</td>\n",
       "    </tr>\n",
       "    <tr>\n",
       "      <th>827</th>\n",
       "      <td>United Package</td>\n",
       "      <td>498.1000</td>\n",
       "    </tr>\n",
       "    <tr>\n",
       "      <th>828</th>\n",
       "      <td>United Package</td>\n",
       "      <td>792.7500</td>\n",
       "    </tr>\n",
       "    <tr>\n",
       "      <th>829</th>\n",
       "      <td>United Package</td>\n",
       "      <td>1255.7205</td>\n",
       "    </tr>\n",
       "  </tbody>\n",
       "</table>\n",
       "<p>830 rows × 2 columns</p>\n",
       "</div>"
      ],
      "text/plain": [
       "              Shipper  Total_price\n",
       "0    Federal Shipping     440.0000\n",
       "1      Speedy Express    1863.4000\n",
       "2      United Package    1552.6000\n",
       "3      Speedy Express     654.0600\n",
       "4      United Package    3597.9000\n",
       "..                ...          ...\n",
       "825    United Package     300.0000\n",
       "826    United Package     232.0850\n",
       "827    United Package     498.1000\n",
       "828    United Package     792.7500\n",
       "829    United Package    1255.7205\n",
       "\n",
       "[830 rows x 2 columns]"
      ]
     },
     "execution_count": 30,
     "metadata": {},
     "output_type": "execute_result"
    }
   ],
   "source": [
    "df_ship = pd.read_sql_query(\"\"\"SELECT Shipper.CompanyName as Shipper, SUM(Quantity * UnitPrice * (1 - Discount)) AS Total_price FROM Orderdetail\n",
    "                        JOIN [Order] ON OrderDetail.OrderID = [ORDER].ID \n",
    "                        JOIN Shipper ON [Order].ShipVia = Shipper.ID\n",
    "                        GROUP BY OrderId;\"\"\", conn)\n",
    "df_ship"
   ]
  },
  {
   "cell_type": "markdown",
   "metadata": {},
   "source": [
    "Now, lets split the dataset by shipping company and then analyze it's normality in order to see which type of test will be a good candidate for this question."
   ]
  },
  {
   "cell_type": "code",
   "execution_count": 31,
   "metadata": {},
   "outputs": [],
   "source": [
    "df_united = df_ship[df_ship.Shipper == 'United Package']\n",
    "df_federal = df_ship[df_ship.Shipper == 'Federal Shipping']\n",
    "df_speedy = df_ship[df_ship.Shipper == 'Speedy Express']"
   ]
  },
  {
   "cell_type": "code",
   "execution_count": 32,
   "metadata": {},
   "outputs": [
    {
     "data": {
      "image/png": "[encoded data removed]",
      "text/plain": [
       "<Figure size 432x288 with 1 Axes>"
      ]
     },
     "metadata": {
      "needs_background": "light"
     },
     "output_type": "display_data"
    }
   ],
   "source": [
    "sns.distplot(df_united.Total_price, bins = 50, label = 'Total Price for Orders Shipped by United Package')\n",
    "sns.distplot(df_federal.Total_price, bins = 50, label = 'Total Price for Orders Shipped by Federal Shipping')\n",
    "sns.distplot(df_speedy.Total_price, bins = 50, label = 'Total Price for Orders Shipped by Speedy Express')\n",
    "plt.xlabel('Price')\n",
    "plt.ylabel('Frequency')\n",
    "plt.legend()\n",
    "plt.show()"
   ]
  },
  {
   "cell_type": "code",
   "execution_count": 33,
   "metadata": {},
   "outputs": [
    {
     "name": "stdout",
     "output_type": "stream",
     "text": [
      "The data is not normally distributed\n",
      "The data is not normally distributed\n",
      "The data is not normally distributed\n"
     ]
    }
   ],
   "source": [
    "ks_test(df_united.Total_price)\n",
    "ks_test(df_federal.Total_price)\n",
    "ks_test(df_speedy.Total_price)"
   ]
  },
  {
   "cell_type": "markdown",
   "metadata": {},
   "source": [
    "As we can see from the distribution and K-S test results, the datasets are not normally distributed. Let's next analyze the variance and sample sizes so that we can decide on a test to use for hypothesis testing."
   ]
  },
  {
   "cell_type": "code",
   "execution_count": 34,
   "metadata": {},
   "outputs": [
    {
     "name": "stdout",
     "output_type": "stream",
     "text": [
      "3977500.8627873664\n",
      "3368834.148274277\n",
      "2685884.9520199215\n",
      "United Package      326\n",
      "Federal Shipping    255\n",
      "Speedy Express      249\n",
      "Name: Shipper, dtype: int64\n"
     ]
    }
   ],
   "source": [
    "print(df_united.Total_price.var())\n",
    "print(df_federal.Total_price.var())\n",
    "print(df_speedy.Total_price.var())\n",
    "print(df_ship.Shipper.value_counts())\n"
   ]
  },
  {
   "cell_type": "markdown",
   "metadata": {},
   "source": [
    "Based off the information we have gained and the fact that there will be multiple comparisons made, ANOVA will be used to test this hypothesis. Thus, the threshold for this specific test is $\\alpha = 0.01667$"
   ]
  },
  {
   "cell_type": "code",
   "execution_count": 35,
   "metadata": {},
   "outputs": [
    {
     "name": "stdout",
     "output_type": "stream",
     "text": [
      "                  sum_sq     df        F    PR(>F)\n",
      "C(Shipper)  8.011953e+06    2.0  1.17711  0.308684\n",
      "Residual    2.814471e+09  827.0      NaN       NaN\n"
     ]
    }
   ],
   "source": [
    "formula = 'Total_price ~ C(Shipper)'\n",
    "lm = ols(formula, df_ship).fit()\n",
    "table = sm.stats.anova_lm(lm, typ=2)\n",
    "print(table)"
   ]
  },
  {
   "cell_type": "markdown",
   "metadata": {},
   "source": [
    "From these results, we cannot reject the null hypothesis and thus will do further testing among the 3 sets of data to see if there is a statistically significant effect on a shipping company's effect on the total price of an order via a Welch T-test where only two out of the three samples are compared at a time. "
   ]
  },
  {
   "cell_type": "code",
   "execution_count": 36,
   "metadata": {},
   "outputs": [
    {
     "name": "stdout",
     "output_type": "stream",
     "text": [
      "0.4041076207916734\n",
      "0.12062416876466298\n",
      "0.5081313201706394\n"
     ]
    }
   ],
   "source": [
    "print(welch_t_p_value(df_united.Total_price, df_federal.Total_price.values, two_sided = True))\n",
    "print(welch_t_p_value(df_united.Total_price, df_speedy.Total_price.values, two_sided = True))\n",
    "print(welch_t_p_value(df_federal.Total_price, df_speedy.Total_price.values, two_sided = True))"
   ]
  },
  {
   "cell_type": "markdown",
   "metadata": {},
   "source": [
    "Based of the results seen above we cannot reject the null hypothesis that shipping company has no statistically significant effect on the price of an order. "
   ]
  },
  {
   "cell_type": "markdown",
   "metadata": {},
   "source": [
    "### Question 4: Do specific categories have a higher average price? If so, is this difference statistically significant to conclude that categories have a statistically significant effect on average price of an order?\n",
    "\n",
    "Let's once again define our null and alternative hypothesis:\n",
    "\n",
    "- $H_{o}$: The average price per order is not different across different categories indicating category has no statistically significant effect on the average price of an order.\n",
    "- $H_{o}$: The average price per order is different across different categories indicating category has no statistically significant effect on the average price of an order.\n",
    "\n",
    "The threshold for rejecting the null hypothesis will be $\\alpha = 0.05$ but this is subject to change depending on how many comparisons we will make. Let's next create the proper dataset to test this hypothesis."
   ]
  },
  {
   "cell_type": "code",
   "execution_count": 59,
   "metadata": {},
   "outputs": [
    {
     "data": {
      "text/html": [
       "<div>\n",
       "<style scoped>\n",
       "    .dataframe tbody tr th:only-of-type {\n",
       "        vertical-align: middle;\n",
       "    }\n",
       "\n",
       "    .dataframe tbody tr th {\n",
       "        vertical-align: top;\n",
       "    }\n",
       "\n",
       "    .dataframe thead th {\n",
       "        text-align: right;\n",
       "    }\n",
       "</style>\n",
       "<table border=\"1\" class=\"dataframe\">\n",
       "  <thead>\n",
       "    <tr style=\"text-align: right;\">\n",
       "      <th></th>\n",
       "      <th>Category</th>\n",
       "      <th>Total_price</th>\n",
       "    </tr>\n",
       "  </thead>\n",
       "  <tbody>\n",
       "    <tr>\n",
       "      <th>0</th>\n",
       "      <td>Dairy Products</td>\n",
       "      <td>440.0000</td>\n",
       "    </tr>\n",
       "    <tr>\n",
       "      <th>1</th>\n",
       "      <td>Produce</td>\n",
       "      <td>1863.4000</td>\n",
       "    </tr>\n",
       "    <tr>\n",
       "      <th>2</th>\n",
       "      <td>Seafood</td>\n",
       "      <td>1552.6000</td>\n",
       "    </tr>\n",
       "    <tr>\n",
       "      <th>3</th>\n",
       "      <td>Grains/Cereals</td>\n",
       "      <td>654.0600</td>\n",
       "    </tr>\n",
       "    <tr>\n",
       "      <th>4</th>\n",
       "      <td>Confections</td>\n",
       "      <td>3597.9000</td>\n",
       "    </tr>\n",
       "    <tr>\n",
       "      <th>...</th>\n",
       "      <td>...</td>\n",
       "      <td>...</td>\n",
       "    </tr>\n",
       "    <tr>\n",
       "      <th>825</th>\n",
       "      <td>Dairy Products</td>\n",
       "      <td>300.0000</td>\n",
       "    </tr>\n",
       "    <tr>\n",
       "      <th>826</th>\n",
       "      <td>Confections</td>\n",
       "      <td>232.0850</td>\n",
       "    </tr>\n",
       "    <tr>\n",
       "      <th>827</th>\n",
       "      <td>Beverages</td>\n",
       "      <td>498.1000</td>\n",
       "    </tr>\n",
       "    <tr>\n",
       "      <th>828</th>\n",
       "      <td>Condiments</td>\n",
       "      <td>792.7500</td>\n",
       "    </tr>\n",
       "    <tr>\n",
       "      <th>829</th>\n",
       "      <td>Beverages</td>\n",
       "      <td>1255.7205</td>\n",
       "    </tr>\n",
       "  </tbody>\n",
       "</table>\n",
       "<p>830 rows × 2 columns</p>\n",
       "</div>"
      ],
      "text/plain": [
       "           Category  Total_price\n",
       "0    Dairy Products     440.0000\n",
       "1           Produce    1863.4000\n",
       "2           Seafood    1552.6000\n",
       "3    Grains/Cereals     654.0600\n",
       "4       Confections    3597.9000\n",
       "..              ...          ...\n",
       "825  Dairy Products     300.0000\n",
       "826     Confections     232.0850\n",
       "827       Beverages     498.1000\n",
       "828      Condiments     792.7500\n",
       "829       Beverages    1255.7205\n",
       "\n",
       "[830 rows x 2 columns]"
      ]
     },
     "execution_count": 59,
     "metadata": {},
     "output_type": "execute_result"
    }
   ],
   "source": [
    "df_cat = pd.read_sql_query(\"\"\"SELECT CategoryName as Category, SUM(Quantity * Orderdetail.UnitPrice * (1 - Discount)) AS Total_price FROM Orderdetail\n",
    "                    JOIN Product ON Orderdetail.Productid = product.id\n",
    "                    JOIN Category ON Product.Categoryid = Category.id\n",
    "                    GROUP BY OrderID\"\"\",conn)\n",
    "df_cat"
   ]
  },
  {
   "cell_type": "markdown",
   "metadata": {},
   "source": [
    "Now let's analyze the average price per order by category by grouping the data based on category then calculating the average price per order."
   ]
  },
  {
   "cell_type": "code",
   "execution_count": 60,
   "metadata": {},
   "outputs": [
    {
     "data": {
      "image/png": "[encoded data removed]",
      "text/plain": [
       "<Figure size 720x504 with 1 Axes>"
      ]
     },
     "metadata": {
      "needs_background": "light"
     },
     "output_type": "display_data"
    }
   ],
   "source": [
    "df_cat.groupby('Category').mean().plot.bar(figsize = (10,7), title = 'The Average Order Price by Category')\n",
    "plt.ylabel('Average price per Order')\n",
    "plt.show()"
   ]
  },
  {
   "cell_type": "code",
   "execution_count": 61,
   "metadata": {},
   "outputs": [
    {
     "data": {
      "image/png": "[encoded data removed]",
      "text/plain": [
       "<Figure size 576x360 with 1 Axes>"
      ]
     },
     "metadata": {
      "needs_background": "light"
     },
     "output_type": "display_data"
    }
   ],
   "source": [
    "sns.catplot(x = 'Category', y = 'Total_price', kind = 'bar', data = df_cat,height=5, aspect=1.6)\n",
    "plt.xticks(rotation=70)\n",
    "plt.ylabel('Price')\n",
    "plt.title('Average Price of an Order by Category')\n",
    "plt.savefig('q4_price.jpg',bbox_inches='tight')\n",
    "plt.show()"
   ]
  },
  {
   "cell_type": "markdown",
   "metadata": {},
   "source": [
    "As we can see the average price per order by categories are not equal and thus a difference does exist between them. Based on the fact that multiple comparisons will be made in this test, the Bonferroni correction needs to be applied where $\\alpha_{new} = \\frac{\\alpha_{current}}{n}$ where n is the number of samples being compared and thus in this case with the number of categories being n, $\\alpha_{new} = 0.00625$"
   ]
  },
  {
   "cell_type": "code",
   "execution_count": 53,
   "metadata": {},
   "outputs": [
    {
     "name": "stdout",
     "output_type": "stream",
     "text": [
      "                   sum_sq     df         F    PR(>F)\n",
      "C(Category)  5.482300e+07    7.0  2.326076  0.023588\n",
      "Residual     2.767660e+09  822.0       NaN       NaN\n"
     ]
    }
   ],
   "source": [
    "formula = 'Total_price ~ C(Category)'\n",
    "lm = ols(formula, df_cat).fit()\n",
    "table = sm.stats.anova_lm(lm, typ=2)\n",
    "print(table)"
   ]
  },
  {
   "cell_type": "markdown",
   "metadata": {},
   "source": [
    "Based off these test results, the null hypothesis cannot be rejected and thus we can for the time being conclude that categories do not have a statistically significant effect on a price of an order. "
   ]
  },
  {
   "cell_type": "markdown",
   "metadata": {},
   "source": [
    "# Conclusion\n",
    "\n",
    "Based of the results gained from performing hypotheses tests, the following recommendations would be given to stakeholders:\n",
    "\n",
    "1. Discounts do lead to a significant difference in quantity of a product order and thus more items should be discounted at 15% and 25% as it was found that these 2 discount groups have the largest effect. \n",
    "\n",
    "2. More effort needs to be put in regions where the average price per order is lower as this difference was proven to be significant and thus there is low-hanging fruit in working to increase the average price in these regions. These regions include: \n",
    "\n",
    "    - Eastern Europe\n",
    "    - Southern Europe\n",
    "    - Scandinavia\n",
    "    - Central America\n",
    "\n",
    "3. Although it might be against conventional wisdom, the shipping company does not have a significant effect on the average price of an order, and thus no focus should be put on using one shipping company over the other. \n",
    "\n",
    "4. Categories of products within an order have no significant effect on the average price of an order and therefore all categories should have equal focus as the tests within this study cannot prove that additional focus will lead to a statistically significant increase in price of an order. \n",
    "\n"
   ]
  },
  {
   "cell_type": "code",
   "execution_count": null,
   "metadata": {},
   "outputs": [],
   "source": []
  }
 ],
 "metadata": {
  "kernelspec": {
   "display_name": "Python 3",
   "language": "python",
   "name": "python3"
  },
  "language_info": {
   "codemirror_mode": {
    "name": "ipython",
    "version": 3
   },
   "file_extension": ".py",
   "mimetype": "text/x-python",
   "name": "python",
   "nbconvert_exporter": "python",
   "pygments_lexer": "ipython3",
   "version": "3.8.3"
  }
 },
 "nbformat": 4,
 "nbformat_minor": 4
}
